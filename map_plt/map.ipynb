{
 "cells": [
  {
   "cell_type": "code",
   "execution_count": 1,
   "metadata": {},
   "outputs": [],
   "source": [
    "import pandas as pd\n",
    "import datetime\n",
    "import ipywidgets as widgets\n",
    "import numpy as np\n",
    "import matplotlib.pyplot as plt"
   ]
  },
  {
   "cell_type": "markdown",
   "metadata": {},
   "source": [
    "Selecionando arbovirose e os anos"
   ]
  },
  {
   "cell_type": "code",
   "execution_count": 2,
   "metadata": {},
   "outputs": [
    {
     "data": {
      "application/vnd.jupyter.widget-view+json": {
       "model_id": "61619c96f0a64492bbe9d261c5ff73c7",
       "version_major": 2,
       "version_minor": 0
      },
      "text/plain": [
       "Combobox(value='', description='Arbovirose: ', ensure_option=True, options=('Dengue', 'Chikungunya', 'Zika'), …"
      ]
     },
     "metadata": {},
     "output_type": "display_data"
    }
   ],
   "source": [
    "arbo_v = widgets.Combobox(\n",
    "    placeholder = 'Selecione uma: ',\n",
    "    options = [\"Dengue\", \"Chikungunya\", \"Zika\"],\n",
    "    description = 'Arbovirose: ',\n",
    "    ensure_option = True\n",
    ")\n",
    "\n",
    "display(arbo_v)"
   ]
  },
  {
   "cell_type": "code",
   "execution_count": 10,
   "metadata": {},
   "outputs": [],
   "source": [
    "arbo_v.value = str.lower(arbo_v.value)"
   ]
  },
  {
   "cell_type": "code",
   "execution_count": 32,
   "metadata": {},
   "outputs": [],
   "source": [
    "aux = datetime.date.today()\n",
    "aux = int(aux.strftime(\"%Y\"))\n",
    "\n",
    "if arbo_v.value == 'dengue':\n",
    "    j = 10\n",
    "else:\n",
    "    j = 5\n",
    "\n",
    "anos_aux = []\n",
    "for i in range (aux-j, aux):\n",
    "    anos_aux.append(str(i))"
   ]
  },
  {
   "cell_type": "code",
   "execution_count": 33,
   "metadata": {},
   "outputs": [
    {
     "data": {
      "application/vnd.jupyter.widget-view+json": {
       "model_id": "b032907f2b964ef0991e35d0af37054c",
       "version_major": 2,
       "version_minor": 0
      },
      "text/plain": [
       "Combobox(value='', description='Anos: ', ensure_option=True, options=('2012', '2013', '2014', '2015', '2016', …"
      ]
     },
     "metadata": {},
     "output_type": "display_data"
    }
   ],
   "source": [
    "ano = widgets.Combobox(\n",
    "    placeholder = 'Selecione o primeiro ano: ',\n",
    "    options = anos_aux,\n",
    "    description = 'Anos: ',\n",
    "    ensure_option = True\n",
    ")\n",
    "\n",
    "display(ano)"
   ]
  },
  {
   "cell_type": "code",
   "execution_count": 34,
   "metadata": {},
   "outputs": [],
   "source": [
    "anos = []\n",
    "anos.append(ano.value)"
   ]
  },
  {
   "cell_type": "code",
   "execution_count": 35,
   "metadata": {},
   "outputs": [
    {
     "data": {
      "application/vnd.jupyter.widget-view+json": {
       "model_id": "3bdd789a98fe46d5bf334b2733dc5d1b",
       "version_major": 2,
       "version_minor": 0
      },
      "text/plain": [
       "Combobox(value='', description='Anos: ', ensure_option=True, options=('2012', '2013', '2014', '2015', '2016', …"
      ]
     },
     "metadata": {},
     "output_type": "display_data"
    }
   ],
   "source": [
    "anos_aux = list(filter((anos[0]).__ne__, anos_aux))\n",
    "\n",
    "ano = widgets.Combobox(\n",
    "    placeholder = 'Selecione o segundo ano: ',\n",
    "    options = anos_aux,\n",
    "    description = 'Anos: ',\n",
    "    ensure_option = True\n",
    ")\n",
    "\n",
    "display(ano)"
   ]
  },
  {
   "cell_type": "code",
   "execution_count": 36,
   "metadata": {},
   "outputs": [],
   "source": [
    "anos.append(ano.value)"
   ]
  },
  {
   "cell_type": "code",
   "execution_count": 37,
   "metadata": {},
   "outputs": [],
   "source": [
    "plt.rcParams[\"figure.figsize\"] = (10, 10)"
   ]
  },
  {
   "cell_type": "code",
   "execution_count": 38,
   "metadata": {},
   "outputs": [],
   "source": [
    "scr = f\"../scr/{arbo_v.value}/\""
   ]
  },
  {
   "cell_type": "markdown",
   "metadata": {},
   "source": [
    "Casos"
   ]
  },
  {
   "cell_type": "code",
   "execution_count": 39,
   "metadata": {},
   "outputs": [
    {
     "data": {
      "image/png": "[encoded data removed]",
      "text/plain": [
       "<Figure size 720x720 with 1 Axes>"
      ]
     },
     "metadata": {
      "needs_background": "light"
     },
     "output_type": "display_data"
    }
   ],
   "source": [
    "arq = scr + \"casos_municipio_10.csv\"\n",
    "\n",
    "df = pd.read_csv(arq, encoding = \"utf-8\")\n",
    "df = df.drop(columns=['Unnamed: 0'])\n",
    "\n",
    "casos = []\n",
    "ix = []\n",
    "for i in range (2, df.shape[1]):\n",
    "    casos.append(df.iloc[:, i].sum())\n",
    "    ix.append(df.columns[i])\n",
    "\n",
    "df = pd.DataFrame(casos, index = ix, columns=[\"Casos\"])\n",
    "\n",
    "plt.bar(df.index, df[\"Casos\"], color=\"#103b6e\")\n",
    "plt.xlabel(\"Anos\")\n",
    "plt.ylabel(\"Casos\")\n",
    "if arbo_v.value == \"dengue\":\n",
    "    plt.title(\"Dengue\")\n",
    "elif arbo_v.value == \"chikungunya\":\n",
    "    plt.title(\"Chikungunya\")\n",
    "else:\n",
    "    plt.title(\"Zika Vírus\")"
   ]
  },
  {
   "cell_type": "markdown",
   "metadata": {},
   "source": [
    "Mês"
   ]
  },
  {
   "cell_type": "code",
   "execution_count": 40,
   "metadata": {},
   "outputs": [
    {
     "data": {
      "image/png": "[encoded data removed]",
      "text/plain": [
       "<Figure size 720x720 with 1 Axes>"
      ]
     },
     "metadata": {
      "needs_background": "light"
     },
     "output_type": "display_data"
    }
   ],
   "source": [
    "arq = scr + \"mes_municipio_\" + anos[0] + \".csv\"\n",
    "\n",
    "df = pd.read_csv(arq, encoding = \"utf-8\")\n",
    "df = df.drop(columns=['Unnamed: 0'])\n",
    "\n",
    "Meses = [\"Janeiro\", \"Fevereiro\", \"Março\", \"Abril\", \"Maio\", \"Junho\", \"Julho\", \"Agosto\", \"Setembro\", \"Outubro\", \"Novembro\", \"Dezembro\"]\n",
    "Casos = [ df[\"Jan\"].sum(), df[\"Fev\"].sum(), df[\"Mar\"].sum(), df[\"Abr\"].sum(), df[\"Mai\"].sum(), df[\"Jun\"].sum(), df[\"Jul\"].sum(), df[\"Ago\"].sum(), df[\"Set\"].sum(), df[\"Out\"].sum(), df[\"Nov\"].sum(), df[\"Dez\"].sum() ]\n",
    "\n",
    "plt.bar(Meses, Casos, color=\"#103b6e\")\n",
    "plt.xlabel(\"Meses\")\n",
    "plt.ylabel(\"Casos\")\n",
    "if arbo_v.value == \"dengue\":\n",
    "    plt.title(f\"Dengue {anos[0]}\")\n",
    "elif arbo_v.value == \"chikungunya\":\n",
    "    plt.title(f\"Chikungunya {anos[0]}\")\n",
    "else:\n",
    "    plt.title(f\"Zika Vírus {anos[0]}\")"
   ]
  },
  {
   "cell_type": "markdown",
   "metadata": {},
   "source": [
    "Sexo"
   ]
  },
  {
   "cell_type": "code",
   "execution_count": 41,
   "metadata": {},
   "outputs": [
    {
     "data": {
      "image/png": "[encoded data removed]",
      "text/plain": [
       "<Figure size 720x720 with 1 Axes>"
      ]
     },
     "metadata": {
      "needs_background": "light"
     },
     "output_type": "display_data"
    }
   ],
   "source": [
    "arq = scr + \"sexo_municipio_\" + anos[0] + \".csv\"\n",
    "\n",
    "df = pd.read_csv(arq, encoding = \"utf-8\")\n",
    "df = df.drop(columns=['Unnamed: 0'])\n",
    "\n",
    "df[\"Branco e Ignorado\"] = df[\"Em Branco\"] + df[\"Ignorado\"]\n",
    "df = df.drop(columns=['Em Branco'])\n",
    "df = df.drop(columns=['Ignorado'])\n",
    "\n",
    "Sexos = [\"Em Branco ou Ignorado\", \"Masculino\", \"Feminino\"]\n",
    "Casos = [ df[\"Branco e Ignorado\"].sum(), df[\"Masculino\"].sum(), df[\"Feminino\"].sum() ]\n",
    "\n",
    "plt.bar(Sexos, Casos, color=\"#103b6e\")\n",
    "plt.xlabel(\"Sexos\")\n",
    "plt.ylabel(\"Casos\")\n",
    "if arbo_v.value == \"dengue\":\n",
    "    plt.title(f\"Dengue {anos[0]}\")\n",
    "elif arbo_v.value == \"chikungunya\":\n",
    "    plt.title(f\"Chikungunya {anos[0]}\")\n",
    "else:\n",
    "    plt.title(f\"Zika Vírus {anos[0]}\")"
   ]
  },
  {
   "cell_type": "markdown",
   "metadata": {},
   "source": [
    "Faixa Etária"
   ]
  },
  {
   "cell_type": "code",
   "execution_count": 42,
   "metadata": {},
   "outputs": [
    {
     "data": {
      "image/png": "[encoded data removed]",
      "text/plain": [
       "<Figure size 720x720 with 1 Axes>"
      ]
     },
     "metadata": {
      "needs_background": "light"
     },
     "output_type": "display_data"
    }
   ],
   "source": [
    "arq = scr + \"fx_etaria_municipio_\" + anos[0] + \".csv\"\n",
    "\n",
    "df = pd.read_csv(arq, encoding = \"utf-8\")\n",
    "df = df.drop(columns=['Unnamed: 0'])\n",
    "\n",
    "Faixa = [\"Menor que 1\", \"Entre 1 e 9\", \"Entre 10 e 19\", \"Entre 20 e 34\", \"Entre 35 e 49\", \"Entre 50 e 64\", \"Entre 65 e 79\", \"Maior que 80\"]\n",
    "Casos = [ df[\"<1 Ano\"].sum(), df[\"1-4\"].sum() + df[\"5-9\"].sum(), df[\"10-14\"].sum() + df[\"15-19\"].sum(), df[\"20-34\"].sum(), df[\"35-49\"].sum(), df[\"50-64\"].sum(), df[\"65-79\"].sum(), df[\"80 e+\"].sum() ]\n",
    "\n",
    "plt.bar(Faixa, Casos, color=\"#103b6e\")\n",
    "plt.xlabel(\"Faixas\")\n",
    "plt.ylabel(\"Casos\")\n",
    "if arbo_v.value == \"dengue\":\n",
    "    plt.title(f\"Dengue {anos[0]}\")\n",
    "elif arbo_v.value == \"chikungunya\":\n",
    "    plt.title(f\"Chikungunya {anos[0]}\")\n",
    "else:\n",
    "    plt.title(f\"Zika Vírus {anos[0]}\")"
   ]
  }
 ],
 "metadata": {
  "interpreter": {
   "hash": "916dbcbb3f70747c44a77c7bcd40155683ae19c65e1c03b4aa3499c5328201f1"
  },
  "kernelspec": {
   "display_name": "Python 3.8.10 64-bit",
   "language": "python",
   "name": "python3"
  },
  "language_info": {
   "codemirror_mode": {
    "name": "ipython",
    "version": 3
   },
   "file_extension": ".py",
   "mimetype": "text/x-python",
   "name": "python",
   "nbconvert_exporter": "python",
   "pygments_lexer": "ipython3",
   "version": "3.8.10"
  },
  "orig_nbformat": 4
 },
 "nbformat": 4,
 "nbformat_minor": 2
}
