{
 "cells": [
  {
   "cell_type": "code",
   "execution_count": null,
   "metadata": {},
   "outputs": [],
   "source": [
    "import pandas as pd\n",
    "import numpy as np\n",
    "import matplotlib.pyplot as plt"
   ]
  },
  {
   "cell_type": "markdown",
   "metadata": {},
   "source": [
    "Selecionando arbovirose e os anos"
   ]
  },
  {
   "cell_type": "code",
   "execution_count": null,
   "metadata": {},
   "outputs": [],
   "source": [
    "arbo_v = widgets.Combobox(\n",
    "    placeholder = 'Selecione uma: ',\n",
    "    options = [\"Dengue\", \"Chikungunya\", \"Zika\"],\n",
    "    description = 'Arbovirose: ',\n",
    "    ensure_option = True\n",
    ")\n",
    "\n",
    "display(arbo_v)"
   ]
  },
  {
   "cell_type": "code",
   "execution_count": null,
   "metadata": {},
   "outputs": [],
   "source": [
    "arbo_v.value = str.lower(arbo_v.value)"
   ]
  },
  {
   "cell_type": "code",
   "execution_count": null,
   "metadata": {},
   "outputs": [],
   "source": [
    "aux = datetime.date.today()\n",
    "aux = int(aux.strftime(\"%Y\"))\n",
    "\n",
    "if arbo_v.value == 'dengue':\n",
    "    j = 10\n",
    "else:\n",
    "    j = 5\n",
    "\n",
    "anos_aux = []\n",
    "for i in range (aux-j, aux):\n",
    "    anos_aux.append(str(i))"
   ]
  },
  {
   "cell_type": "code",
   "execution_count": null,
   "metadata": {},
   "outputs": [],
   "source": [
    "ano = widgets.Combobox(\n",
    "    placeholder = 'Selecione o ano: ',\n",
    "    options = anos_aux,\n",
    "    description = 'Ano: ',\n",
    "    ensure_option = True\n",
    ")\n",
    "\n",
    "display(ano)"
   ]
  },
  {
   "cell_type": "code",
   "execution_count": null,
   "metadata": {},
   "outputs": [],
   "source": [
    "anos = ano.value"
   ]
  },
  {
   "cell_type": "code",
   "execution_count": null,
   "metadata": {},
   "outputs": [],
   "source": [
    "plt.rcParams[\"figure.figsize\"] = (15, 15)"
   ]
  },
  {
   "cell_type": "code",
   "execution_count": null,
   "metadata": {},
   "outputs": [],
   "source": [
    "scr = f\"../scr/{arbo_v.value}/\""
   ]
  },
  {
   "cell_type": "markdown",
   "metadata": {},
   "source": [
    "Casos"
   ]
  },
  {
   "cell_type": "code",
   "execution_count": null,
   "metadata": {},
   "outputs": [],
   "source": [
    "if arbo_v.value == 'dengue':\n",
    "    arq = scr + \"casos_municipio_10.csv\"\n",
    "else:\n",
    "    arq = scr + \"casos_municipio_5.csv\"\n",
    "\n",
    "df = pd.read_csv(arq, encoding = \"utf-8\")\n",
    "df = df.drop(columns=['Unnamed: 0'])\n",
    "\n",
    "casos = []\n",
    "ix = []\n",
    "for i in range (2, df.shape[1]):\n",
    "    casos.append(df.iloc[:, i].sum())\n",
    "    ix.append(df.columns[i])\n",
    "\n",
    "df = pd.DataFrame(casos, index = ix, columns=[\"Casos\"])\n",
    "\n",
    "plt.bar(df.index, df[\"Casos\"], color=\"#103b6e\")\n",
    "plt.xlabel(\"Anos\")\n",
    "plt.ylabel(\"Casos\")\n",
    "if arbo_v.value == \"dengue\":\n",
    "    plt.title(\"Dengue\")\n",
    "elif arbo_v.value == \"chikungunya\":\n",
    "    plt.title(\"Chikungunya\")\n",
    "else:\n",
    "    plt.title(\"Zika Vírus\")\n",
    "\n",
    "plt.savefig(f'../media/{arbo_v.value}/casos.png', bbox_inches='tight', pad_inches=0)"
   ]
  },
  {
   "cell_type": "markdown",
   "metadata": {},
   "source": [
    "Obitos (Dengue)"
   ]
  },
  {
   "cell_type": "code",
   "execution_count": null,
   "metadata": {},
   "outputs": [],
   "source": [
    "if arbo_v.value == 'dengue':\n",
    "    obitos = pd.read_csv(\"../scr/dengue/obitos_municipio_10.csv\")\n",
    "    df[\"Obitos\"] = list(obitos.iloc[:, 3:14].sum())\n",
    "\n",
    "    plt.bar(df.index, df[\"Obitos\"], color=\"#103b6e\")\n",
    "    plt.xlabel(\"Anos\")\n",
    "    plt.ylabel(\"Óbitos\")\n",
    "    plt.title(\"Dengue\")\n",
    "\n",
    "    plt.savefig(f'../media/{arbo_v.value}/obitos.png', bbox_inches='tight', pad_inches=0)"
   ]
  },
  {
   "cell_type": "markdown",
   "metadata": {},
   "source": [
    "Mês"
   ]
  },
  {
   "cell_type": "code",
   "execution_count": null,
   "metadata": {},
   "outputs": [],
   "source": [
    "arq = scr + \"mes_municipio_\" + anos + \".csv\"\n",
    "\n",
    "df = pd.read_csv(arq, encoding = \"utf-8\")\n",
    "df = df.drop(columns=['Unnamed: 0'])\n",
    "\n",
    "Meses = [\"Janeiro\", \"Fevereiro\", \"Março\", \"Abril\", \"Maio\", \"Junho\", \"Julho\", \"Agosto\", \"Setembro\", \"Outubro\", \"Novembro\", \"Dezembro\"]\n",
    "Casos = [ df[\"Jan\"].sum(), df[\"Fev\"].sum(), df[\"Mar\"].sum(), df[\"Abr\"].sum(), df[\"Mai\"].sum(), df[\"Jun\"].sum(), df[\"Jul\"].sum(), df[\"Ago\"].sum(), df[\"Set\"].sum(), df[\"Out\"].sum(), df[\"Nov\"].sum(), df[\"Dez\"].sum() ]\n",
    "\n",
    "plt.bar(Meses, Casos, color=\"#103b6e\")\n",
    "plt.xlabel(\"Meses\")\n",
    "plt.ylabel(\"Casos\")\n",
    "if arbo_v.value == \"dengue\":\n",
    "    plt.title(f\"Dengue {anos}\")\n",
    "elif arbo_v.value == \"chikungunya\":\n",
    "    plt.title(f\"Chikungunya {anos}\")\n",
    "else:\n",
    "    plt.title(f\"Zika Vírus {anos}\")\n",
    "\n",
    "plt.savefig(f'../media/{arbo_v.value}/meses_{anos}.png', bbox_inches='tight', pad_inches=0)"
   ]
  },
  {
   "cell_type": "markdown",
   "metadata": {},
   "source": [
    "Sexo"
   ]
  },
  {
   "cell_type": "code",
   "execution_count": null,
   "metadata": {},
   "outputs": [],
   "source": [
    "arq = scr + \"sexo_municipio_\" + anos + \".csv\"\n",
    "\n",
    "df = pd.read_csv(arq, encoding = \"utf-8\")\n",
    "df = df.drop(columns=['Unnamed: 0'])\n",
    "\n",
    "df[\"Branco e Ignorado\"] = df[\"Em Branco\"] + df[\"Ignorado\"]\n",
    "df = df.drop(columns=['Em Branco'])\n",
    "df = df.drop(columns=['Ignorado'])\n",
    "\n",
    "Sexos = [\"Em Branco ou Ignorado\", \"Masculino\", \"Feminino\"]\n",
    "Casos = [ df[\"Branco e Ignorado\"].sum(), df[\"Masculino\"].sum(), df[\"Feminino\"].sum() ]\n",
    "\n",
    "plt.bar(Sexos, Casos, color=\"#103b6e\")\n",
    "plt.xlabel(\"Sexos\")\n",
    "plt.ylabel(\"Casos\")\n",
    "if arbo_v.value == \"dengue\":\n",
    "    plt.title(f\"Dengue {anos}\")\n",
    "elif arbo_v.value == \"chikungunya\":\n",
    "    plt.title(f\"Chikungunya {anos}\")\n",
    "else:\n",
    "    plt.title(f\"Zika Vírus {anos}\")\n",
    "\n",
    "plt.savefig(f'../media/{arbo_v.value}/sexo_{anos}.png', bbox_inches='tight', pad_inches=0)"
   ]
  },
  {
   "cell_type": "markdown",
   "metadata": {},
   "source": [
    "Faixa Etária"
   ]
  },
  {
   "cell_type": "code",
   "execution_count": null,
   "metadata": {},
   "outputs": [],
   "source": [
    "arq = scr + \"fx_etaria_municipio_\" + anos + \".csv\"\n",
    "\n",
    "df = pd.read_csv(arq, encoding = \"utf-8\")\n",
    "df = df.drop(columns=['Unnamed: 0'])\n",
    "\n",
    "Faixa = [\"Menor que 1\", \"Entre 1 e 9\", \"Entre 10 e 19\", \"Entre 20 e 34\", \"Entre 35 e 49\", \"Entre 50 e 64\", \"Entre 65 e 79\", \"Maior que 80\"]\n",
    "Casos = [ df[\"<1 Ano\"].sum(), df[\"1-4\"].sum() + df[\"5-9\"].sum(), df[\"10-14\"].sum() + df[\"15-19\"].sum(), df[\"20-34\"].sum(), df[\"35-49\"].sum(), df[\"50-64\"].sum(), df[\"65-79\"].sum(), df[\"80 e+\"].sum() ]\n",
    "\n",
    "plt.bar(Faixa, Casos, color=\"#103b6e\")\n",
    "plt.xlabel(\"Faixas\")\n",
    "plt.ylabel(\"Casos\")\n",
    "if arbo_v.value == \"dengue\":\n",
    "    plt.title(f\"Dengue {anos}\")\n",
    "elif arbo_v.value == \"chikungunya\":\n",
    "    plt.title(f\"Chikungunya {anos}\")\n",
    "else:\n",
    "    plt.title(f\"Zika Vírus {anos}\")\n",
    "\n",
    "plt.savefig(f'../media/{arbo_v.value}/fx_etaria_{anos}.png', bbox_inches='tight', pad_inches=0)"
   ]
  }
 ],
 "metadata": {
  "kernelspec": {
   "display_name": "Python 3.10.7 64-bit",
   "language": "python",
   "name": "python3"
  },
  "language_info": {
   "codemirror_mode": {
    "name": "ipython",
    "version": 3
   },
   "file_extension": ".py",
   "mimetype": "text/x-python",
   "name": "python",
   "nbconvert_exporter": "python",
   "pygments_lexer": "ipython3",
   "version": "3.10.7"
  },
  "orig_nbformat": 4,
  "vscode": {
   "interpreter": {
    "hash": "e7370f93d1d0cde622a1f8e1c04877d8463912d04d973331ad4851f04de6915a"
   }
  }
 },
 "nbformat": 4,
 "nbformat_minor": 2
}
