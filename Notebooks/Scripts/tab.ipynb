{
 "cells": [
  {
   "cell_type": "code",
   "execution_count": 1,
   "metadata": {},
   "outputs": [],
   "source": [
    "import pandas as pd\n",
    "import numpy as np"
   ]
  },
  {
   "cell_type": "code",
   "execution_count": 2,
   "metadata": {},
   "outputs": [],
   "source": [
    "Arbo_V = 'Dengue'\n",
    "Ano = ['2021', '2020']"
   ]
  },
  {
   "cell_type": "code",
   "execution_count": 3,
   "metadata": {},
   "outputs": [],
   "source": [
    "df = pd.read_pickle(\"../Datasets/dengue_ano.pkl\")\n",
    "censo = pd.read_pickle(\"../Datasets/ibge_2010.pkl\")"
   ]
  },
  {
   "cell_type": "code",
   "execution_count": 4,
   "metadata": {},
   "outputs": [],
   "source": [
    "df = df.merge(censo, left_on='Município', right_on='Município')\n",
    "df['Casos/Hab 100M'] = (df[f'{Ano[0]}']/df[\"População 2010\"]*100000)\n",
    "df['Casos/Hab 100M'] = df['Casos/Hab 100M'].astype('float32').round(2)"
   ]
  },
  {
   "cell_type": "code",
   "execution_count": 5,
   "metadata": {},
   "outputs": [],
   "source": [
    "df[f'Tx Crescimento dos anos {Ano[0]} e {Ano[1]}'] = np.around((df[Ano[0]].astype('float32') - df[Ano[1]].astype('float32')).divide(df[Ano[1]].astype('float32')) * 100)"
   ]
  },
  {
   "cell_type": "code",
   "execution_count": 6,
   "metadata": {},
   "outputs": [],
   "source": [
    "aux = df.nlargest(10, 'Casos/Hab 100M')[['Código', 'Município', 'População 2010', f'{Ano[0]}', 'Casos/Hab 100M', f'Tx Crescimento dos anos {Ano[0]} e {Ano[1]}']]"
   ]
  },
  {
   "cell_type": "code",
   "execution_count": 7,
   "metadata": {},
   "outputs": [],
   "source": [
    "total_casos = pd.DataFrame(df.iloc[:, 2:-3].sum(), df.columns[2:-3], columns=['Casos'])"
   ]
  },
  {
   "cell_type": "code",
   "execution_count": 8,
   "metadata": {},
   "outputs": [],
   "source": [
    "total_casos.Casos = total_casos.Casos.astype('int32')"
   ]
  },
  {
   "cell_type": "code",
   "execution_count": 9,
   "metadata": {},
   "outputs": [
    {
     "data": {
      "text/html": [
       "<div>\n",
       "<style scoped>\n",
       "    .dataframe tbody tr th:only-of-type {\n",
       "        vertical-align: middle;\n",
       "    }\n",
       "\n",
       "    .dataframe tbody tr th {\n",
       "        vertical-align: top;\n",
       "    }\n",
       "\n",
       "    .dataframe thead th {\n",
       "        text-align: right;\n",
       "    }\n",
       "</style>\n",
       "<table border=\"1\" class=\"dataframe\">\n",
       "  <thead>\n",
       "    <tr style=\"text-align: right;\">\n",
       "      <th></th>\n",
       "      <th>Casos</th>\n",
       "    </tr>\n",
       "  </thead>\n",
       "  <tbody>\n",
       "    <tr>\n",
       "      <th>count</th>\n",
       "      <td>11.000000</td>\n",
       "    </tr>\n",
       "    <tr>\n",
       "      <th>mean</th>\n",
       "      <td>60495.727273</td>\n",
       "    </tr>\n",
       "    <tr>\n",
       "      <th>std</th>\n",
       "      <td>32448.298276</td>\n",
       "    </tr>\n",
       "    <tr>\n",
       "      <th>min</th>\n",
       "      <td>14222.000000</td>\n",
       "    </tr>\n",
       "    <tr>\n",
       "      <th>25%</th>\n",
       "      <td>31123.500000</td>\n",
       "    </tr>\n",
       "    <tr>\n",
       "      <th>50%</th>\n",
       "      <td>74543.000000</td>\n",
       "    </tr>\n",
       "    <tr>\n",
       "      <th>75%</th>\n",
       "      <td>84360.500000</td>\n",
       "    </tr>\n",
       "    <tr>\n",
       "      <th>max</th>\n",
       "      <td>107509.000000</td>\n",
       "    </tr>\n",
       "  </tbody>\n",
       "</table>\n",
       "</div>"
      ],
      "text/plain": [
       "               Casos\n",
       "count      11.000000\n",
       "mean    60495.727273\n",
       "std     32448.298276\n",
       "min     14222.000000\n",
       "25%     31123.500000\n",
       "50%     74543.000000\n",
       "75%     84360.500000\n",
       "max    107509.000000"
      ]
     },
     "execution_count": 9,
     "metadata": {},
     "output_type": "execute_result"
    }
   ],
   "source": [
    "total_casos.describe()"
   ]
  },
  {
   "cell_type": "code",
   "execution_count": 10,
   "metadata": {},
   "outputs": [
    {
     "data": {
      "text/plain": [
       "'Taxa de crescimento de Dengue dos anos de 2019 e 2021 comparados com 2020 foi de 26.6% e 187.6%'"
      ]
     },
     "execution_count": 10,
     "metadata": {},
     "output_type": "execute_result"
    }
   ],
   "source": [
    "taxa_20_19 = round((total_casos.loc[\"2020\"][0] - total_casos.loc[\"2019\"][0]) / total_casos.loc[\"2019\"][0] * 100, 1)\n",
    "taxa_20_21 = round((total_casos.loc[\"2020\"][0] - total_casos.loc[\"2021\"][0]) / total_casos.loc[\"2021\"][0] * 100, 1)\n",
    "\n",
    "str(f'Taxa de crescimento de {Arbo_V} dos anos de 2019 e 2021 comparados com 2020 foi de {taxa_20_19}% e {taxa_20_21}%')"
   ]
  },
  {
   "cell_type": "code",
   "execution_count": 11,
   "metadata": {},
   "outputs": [],
   "source": [
    "total_casos[\"População 2010\"] = df[\"População 2010\"].sum()\n",
    "total_casos[\"Casos/Hab 100M\"] = round(total_casos.iloc[:, 0]/total_casos.loc[:, \"População 2010\"] * 100000, 1)"
   ]
  },
  {
   "cell_type": "code",
   "execution_count": 12,
   "metadata": {},
   "outputs": [
    {
     "data": {
      "text/html": [
       "<div>\n",
       "<style scoped>\n",
       "    .dataframe tbody tr th:only-of-type {\n",
       "        vertical-align: middle;\n",
       "    }\n",
       "\n",
       "    .dataframe tbody tr th {\n",
       "        vertical-align: top;\n",
       "    }\n",
       "\n",
       "    .dataframe thead th {\n",
       "        text-align: right;\n",
       "    }\n",
       "</style>\n",
       "<table border=\"1\" class=\"dataframe\">\n",
       "  <thead>\n",
       "    <tr style=\"text-align: right;\">\n",
       "      <th></th>\n",
       "      <th>Casos</th>\n",
       "      <th>População 2010</th>\n",
       "      <th>Casos/Hab 100M</th>\n",
       "    </tr>\n",
       "  </thead>\n",
       "  <tbody>\n",
       "    <tr>\n",
       "      <th>2011</th>\n",
       "      <td>57429</td>\n",
       "      <td>14019055</td>\n",
       "      <td>409.6</td>\n",
       "    </tr>\n",
       "    <tr>\n",
       "      <th>2012</th>\n",
       "      <td>74543</td>\n",
       "      <td>14019055</td>\n",
       "      <td>531.7</td>\n",
       "    </tr>\n",
       "    <tr>\n",
       "      <th>2013</th>\n",
       "      <td>85927</td>\n",
       "      <td>14019055</td>\n",
       "      <td>612.9</td>\n",
       "    </tr>\n",
       "    <tr>\n",
       "      <th>2014</th>\n",
       "      <td>24864</td>\n",
       "      <td>14019055</td>\n",
       "      <td>177.4</td>\n",
       "    </tr>\n",
       "    <tr>\n",
       "      <th>2015</th>\n",
       "      <td>79356</td>\n",
       "      <td>14019055</td>\n",
       "      <td>566.1</td>\n",
       "    </tr>\n",
       "    <tr>\n",
       "      <th>2016</th>\n",
       "      <td>83792</td>\n",
       "      <td>14019055</td>\n",
       "      <td>597.7</td>\n",
       "    </tr>\n",
       "    <tr>\n",
       "      <th>2017</th>\n",
       "      <td>15499</td>\n",
       "      <td>14019055</td>\n",
       "      <td>110.6</td>\n",
       "    </tr>\n",
       "    <tr>\n",
       "      <th>2018</th>\n",
       "      <td>14222</td>\n",
       "      <td>14019055</td>\n",
       "      <td>101.4</td>\n",
       "    </tr>\n",
       "    <tr>\n",
       "      <th>2019</th>\n",
       "      <td>84929</td>\n",
       "      <td>14019055</td>\n",
       "      <td>605.8</td>\n",
       "    </tr>\n",
       "    <tr>\n",
       "      <th>2020</th>\n",
       "      <td>107509</td>\n",
       "      <td>14019055</td>\n",
       "      <td>766.9</td>\n",
       "    </tr>\n",
       "    <tr>\n",
       "      <th>2021</th>\n",
       "      <td>37383</td>\n",
       "      <td>14019055</td>\n",
       "      <td>266.7</td>\n",
       "    </tr>\n",
       "  </tbody>\n",
       "</table>\n",
       "</div>"
      ],
      "text/plain": [
       "       Casos  População 2010  Casos/Hab 100M\n",
       "2011   57429        14019055           409.6\n",
       "2012   74543        14019055           531.7\n",
       "2013   85927        14019055           612.9\n",
       "2014   24864        14019055           177.4\n",
       "2015   79356        14019055           566.1\n",
       "2016   83792        14019055           597.7\n",
       "2017   15499        14019055           110.6\n",
       "2018   14222        14019055           101.4\n",
       "2019   84929        14019055           605.8\n",
       "2020  107509        14019055           766.9\n",
       "2021   37383        14019055           266.7"
      ]
     },
     "execution_count": 12,
     "metadata": {},
     "output_type": "execute_result"
    }
   ],
   "source": [
    "total_casos"
   ]
  },
  {
   "cell_type": "code",
   "execution_count": 13,
   "metadata": {},
   "outputs": [
    {
     "data": {
      "text/html": [
       "<div>\n",
       "<style scoped>\n",
       "    .dataframe tbody tr th:only-of-type {\n",
       "        vertical-align: middle;\n",
       "    }\n",
       "\n",
       "    .dataframe tbody tr th {\n",
       "        vertical-align: top;\n",
       "    }\n",
       "\n",
       "    .dataframe thead th {\n",
       "        text-align: right;\n",
       "    }\n",
       "</style>\n",
       "<table border=\"1\" class=\"dataframe\">\n",
       "  <thead>\n",
       "    <tr style=\"text-align: right;\">\n",
       "      <th></th>\n",
       "      <th>Código</th>\n",
       "      <th>Município</th>\n",
       "      <th>População 2010</th>\n",
       "      <th>2021</th>\n",
       "      <th>Casos/Hab 100M</th>\n",
       "      <th>Tx Crescimento dos anos 2021 e 2020</th>\n",
       "    </tr>\n",
       "  </thead>\n",
       "  <tbody>\n",
       "    <tr>\n",
       "      <th>234</th>\n",
       "      <td>291955</td>\n",
       "      <td>Luís Eduardo Magalhães</td>\n",
       "      <td>60105</td>\n",
       "      <td>4329</td>\n",
       "      <td>7202.399902</td>\n",
       "      <td>1782.0</td>\n",
       "    </tr>\n",
       "    <tr>\n",
       "      <th>37</th>\n",
       "      <td>290320</td>\n",
       "      <td>Barreiras</td>\n",
       "      <td>137427</td>\n",
       "      <td>6642</td>\n",
       "      <td>4833.109863</td>\n",
       "      <td>648.0</td>\n",
       "    </tr>\n",
       "    <tr>\n",
       "      <th>134</th>\n",
       "      <td>291110</td>\n",
       "      <td>Formosa do Rio Preto</td>\n",
       "      <td>22528</td>\n",
       "      <td>861</td>\n",
       "      <td>3821.909912</td>\n",
       "      <td>86000.0</td>\n",
       "    </tr>\n",
       "    <tr>\n",
       "      <th>15</th>\n",
       "      <td>290140</td>\n",
       "      <td>Angical</td>\n",
       "      <td>14073</td>\n",
       "      <td>486</td>\n",
       "      <td>3453.419922</td>\n",
       "      <td>1844.0</td>\n",
       "    </tr>\n",
       "    <tr>\n",
       "      <th>274</th>\n",
       "      <td>292270</td>\n",
       "      <td>Nova Canaã</td>\n",
       "      <td>16713</td>\n",
       "      <td>565</td>\n",
       "      <td>3380.600098</td>\n",
       "      <td>87.0</td>\n",
       "    </tr>\n",
       "    <tr>\n",
       "      <th>268</th>\n",
       "      <td>292225</td>\n",
       "      <td>Muquém de São Francisco</td>\n",
       "      <td>10272</td>\n",
       "      <td>325</td>\n",
       "      <td>3163.939941</td>\n",
       "      <td>inf</td>\n",
       "    </tr>\n",
       "    <tr>\n",
       "      <th>54</th>\n",
       "      <td>290450</td>\n",
       "      <td>Brotas de Macaúbas</td>\n",
       "      <td>10717</td>\n",
       "      <td>325</td>\n",
       "      <td>3032.570068</td>\n",
       "      <td>693.0</td>\n",
       "    </tr>\n",
       "    <tr>\n",
       "      <th>408</th>\n",
       "      <td>293315</td>\n",
       "      <td>Várzea Nova</td>\n",
       "      <td>13073</td>\n",
       "      <td>344</td>\n",
       "      <td>2631.379883</td>\n",
       "      <td>514.0</td>\n",
       "    </tr>\n",
       "    <tr>\n",
       "      <th>158</th>\n",
       "      <td>291320</td>\n",
       "      <td>Ibotirama</td>\n",
       "      <td>25424</td>\n",
       "      <td>603</td>\n",
       "      <td>2371.770020</td>\n",
       "      <td>593.0</td>\n",
       "    </tr>\n",
       "    <tr>\n",
       "      <th>286</th>\n",
       "      <td>292335</td>\n",
       "      <td>Ourolândia</td>\n",
       "      <td>16425</td>\n",
       "      <td>365</td>\n",
       "      <td>2222.219971</td>\n",
       "      <td>75.0</td>\n",
       "    </tr>\n",
       "  </tbody>\n",
       "</table>\n",
       "</div>"
      ],
      "text/plain": [
       "     Código                Município  População 2010  2021  Casos/Hab 100M  \\\n",
       "234  291955   Luís Eduardo Magalhães           60105  4329     7202.399902   \n",
       "37   290320                Barreiras          137427  6642     4833.109863   \n",
       "134  291110     Formosa do Rio Preto           22528   861     3821.909912   \n",
       "15   290140                  Angical           14073   486     3453.419922   \n",
       "274  292270               Nova Canaã           16713   565     3380.600098   \n",
       "268  292225  Muquém de São Francisco           10272   325     3163.939941   \n",
       "54   290450       Brotas de Macaúbas           10717   325     3032.570068   \n",
       "408  293315              Várzea Nova           13073   344     2631.379883   \n",
       "158  291320                Ibotirama           25424   603     2371.770020   \n",
       "286  292335               Ourolândia           16425   365     2222.219971   \n",
       "\n",
       "     Tx Crescimento dos anos 2021 e 2020  \n",
       "234                               1782.0  \n",
       "37                                 648.0  \n",
       "134                              86000.0  \n",
       "15                                1844.0  \n",
       "274                                 87.0  \n",
       "268                                  inf  \n",
       "54                                 693.0  \n",
       "408                                514.0  \n",
       "158                                593.0  \n",
       "286                                 75.0  "
      ]
     },
     "execution_count": 13,
     "metadata": {},
     "output_type": "execute_result"
    }
   ],
   "source": [
    "aux"
   ]
  }
 ],
 "metadata": {
  "kernelspec": {
   "display_name": "Python 3.10.6 ('arboba-venv')",
   "language": "python",
   "name": "python3"
  },
  "language_info": {
   "codemirror_mode": {
    "name": "ipython",
    "version": 3
   },
   "file_extension": ".py",
   "mimetype": "text/x-python",
   "name": "python",
   "nbconvert_exporter": "python",
   "pygments_lexer": "ipython3",
   "version": "3.10.6"
  },
  "orig_nbformat": 4,
  "vscode": {
   "interpreter": {
    "hash": "f49e01d2eb76d174d7e05a058f581af061eff8915b3db815b4565399faf6d0f4"
   }
  }
 },
 "nbformat": 4,
 "nbformat_minor": 2
}
