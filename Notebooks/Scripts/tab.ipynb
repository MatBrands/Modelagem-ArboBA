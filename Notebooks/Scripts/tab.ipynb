{
 "cells": [
  {
   "cell_type": "code",
   "execution_count": null,
   "metadata": {},
   "outputs": [],
   "source": [
    "import datetime\n",
    "import pandas as pd\n",
    "import ipywidgets as widgets"
   ]
  },
  {
   "cell_type": "code",
   "execution_count": null,
   "metadata": {},
   "outputs": [],
   "source": [
    "arbo_v = widgets.Combobox(\n",
    "    placeholder = 'Selecione uma: ',\n",
    "    options = [\"Dengue\", \"Chikungunya\", \"Zika\"],\n",
    "    description = 'Arbovirose: ',\n",
    "    ensure_option = True\n",
    ")\n",
    "\n",
    "display(arbo_v)"
   ]
  },
  {
   "cell_type": "code",
   "execution_count": null,
   "metadata": {},
   "outputs": [],
   "source": [
    "arbo_v.value = str.lower(arbo_v.value)"
   ]
  },
  {
   "cell_type": "code",
   "execution_count": null,
   "metadata": {},
   "outputs": [],
   "source": [
    "aux = datetime.date.today()\n",
    "aux = int(aux.strftime(\"%Y\"))\n",
    "\n",
    "if arbo_v.value == 'dengue':\n",
    "    j = 10\n",
    "else:\n",
    "    j = 5\n",
    "\n",
    "anos_aux = []\n",
    "for i in range (aux-j, aux):\n",
    "    anos_aux.append(str(i))"
   ]
  },
  {
   "cell_type": "code",
   "execution_count": null,
   "metadata": {},
   "outputs": [],
   "source": [
    "ano = widgets.Combobox(\n",
    "    placeholder = 'Selecione o ano: ',\n",
    "    options = anos_aux,\n",
    "    description = 'Ano: ',\n",
    "    ensure_option = True\n",
    ")\n",
    "\n",
    "display(ano)"
   ]
  },
  {
   "cell_type": "code",
   "execution_count": null,
   "metadata": {},
   "outputs": [],
   "source": [
    "anos_aux.remove(ano.value)"
   ]
  },
  {
   "cell_type": "code",
   "execution_count": null,
   "metadata": {},
   "outputs": [],
   "source": [
    "ano_comparado = widgets.Combobox(\n",
    "    placeholder = 'Selecione o ano: ',\n",
    "    options = anos_aux,\n",
    "    description = 'Ano: ',\n",
    "    ensure_option = True\n",
    ")\n",
    "\n",
    "display(ano_comparado)"
   ]
  },
  {
   "cell_type": "code",
   "execution_count": null,
   "metadata": {},
   "outputs": [],
   "source": [
    "scr = f\"../scr/{arbo_v.value}/\"\n",
    "\n",
    "if arbo_v.value == 'dengue':\n",
    "    arq = scr + \"casos_municipio_10.csv\"\n",
    "else:\n",
    "    arq = scr + \"casos_municipio_5.csv\"\n",
    "\n",
    "df = pd.read_csv(arq, encoding = \"utf-8\")\n",
    "df = df.drop(columns=['Unnamed: 0'])"
   ]
  },
  {
   "cell_type": "code",
   "execution_count": null,
   "metadata": {},
   "outputs": [],
   "source": [
    "censo = pd.read_csv(\"../scr/BA - IBGE 2010.csv\")\n",
    "df[\"População 2010\"] = 0\n",
    "\n",
    "for i in range (len(df)):\n",
    "    for j in range (len(censo)):\n",
    "        if df.loc[i, \"Município\"] == censo.loc[j, \"Município\"]:\n",
    "            df.loc[i, \"População 2010\"] = censo.loc[j, \"População 2010\"]\n",
    "\n",
    "df[\"Casos por 100.000 habitantes\"] = round(df.loc[:, f'{ano.value}']/df.loc[:, \"População 2010\"] * 100000, 1)"
   ]
  },
  {
   "cell_type": "code",
   "execution_count": null,
   "metadata": {},
   "outputs": [],
   "source": [
    "if arbo_v.value == 'dengue':\n",
    "    max_anos = 13\n",
    "else:\n",
    "    max_anos = 8\n",
    "\n",
    "total_casos = []\n",
    "data = []\n",
    "for elem in (list(df.columns)[2:max_anos]):\n",
    "    total_casos.append(df.loc[:, elem].sum())\n",
    "    data.append(elem)\n",
    "\n",
    "total_casos = pd.DataFrame(total_casos, data)"
   ]
  },
  {
   "cell_type": "code",
   "execution_count": null,
   "metadata": {},
   "outputs": [],
   "source": [
    "if arbo_v.value == \"dengue\":\n",
    "    df[\"Obitos\"] = 0\n",
    "    obito = pd.read_csv(\"../scr/dengue/obitos_municipio_10.csv\")\n",
    "    for i in range (len(df)):\n",
    "        for j in range (len(obito)):\n",
    "            if df.loc[i, \"Município\"] == obito.loc[j, \"Município\"]:\n",
    "                df.loc[i, \"Obitos\"] = obito.loc[j, ano.value]\n",
    "    \n",
    "    df[\"Mortalidade por 100.000 habitantes\"] = round(df.loc[:, \"Obitos\"]/df.loc[:, \"População 2010\"] * 100000, 1)"
   ]
  },
  {
   "cell_type": "code",
   "execution_count": null,
   "metadata": {},
   "outputs": [],
   "source": [
    "df[f'Taxa de crescimento dos anos {ano.value} e {ano_comparado.value}'] = round((df.loc[:, ano.value] - df.loc[:, ano_comparado.value]) / df.loc[:, ano_comparado.value] * 100, 1)"
   ]
  },
  {
   "cell_type": "code",
   "execution_count": null,
   "metadata": {},
   "outputs": [],
   "source": [
    "if arbo_v.value == \"dengue\":\n",
    "    aux = df.nlargest(10, 'Casos por 100.000 habitantes')[['Codigo', 'Município', 'População 2010', f'{ano.value}', 'Obitos', 'Casos por 100.000 habitantes', 'Mortalidade por 100.000 habitantes', f'Taxa de crescimento dos anos {ano.value} e {ano_comparado.value}']]\n",
    "else:\n",
    "    aux = df.nlargest(10, 'Casos por 100.000 habitantes')[['Codigo', 'Município', 'População 2010', f'{ano.value}', 'Casos por 100.000 habitantes', f'Taxa de crescimento dos anos {ano.value} e {ano_comparado.value}']]"
   ]
  },
  {
   "cell_type": "code",
   "execution_count": null,
   "metadata": {},
   "outputs": [],
   "source": [
    "str('A média e desvio padrão de casos de {0} dos anos {1} até {2} foi de {3} e {4}').format(arbo_v.value, total_casos.iloc[0, :].name, total_casos.iloc[-1, :].name, round(total_casos.iloc[:, 0].mean(), 1), round(total_casos.iloc[:, 0].std(), 1))"
   ]
  },
  {
   "cell_type": "code",
   "execution_count": null,
   "metadata": {},
   "outputs": [],
   "source": [
    "taxa_20_19 = round((total_casos.loc[\"2020\"][0] - total_casos.loc[\"2019\"][0]) / total_casos.loc[\"2019\"][0] * 100, 1)\n",
    "taxa_20_21 = round((total_casos.loc[\"2020\"][0] - total_casos.loc[\"2021\"][0]) / total_casos.loc[\"2021\"][0] * 100, 1)\n",
    "\n",
    "str('Taxa de crescimento de {0} dos anos de 2019 e 2021 comparados com 2020 foi de {1}% e {2}%').format(arbo_v.value, taxa_20_19, taxa_20_21)"
   ]
  },
  {
   "cell_type": "code",
   "execution_count": null,
   "metadata": {},
   "outputs": [],
   "source": [
    "total_casos[\"População 2010\"] = df[\"População 2010\"].sum()\n",
    "total_casos[\"Casos por 100.000 habitantes\"] = round(total_casos.iloc[:, 0]/total_casos.loc[:, \"População 2010\"] * 100000, 1)"
   ]
  },
  {
   "cell_type": "code",
   "execution_count": null,
   "metadata": {},
   "outputs": [],
   "source": [
    "if arbo_v.value == 'dengue':\n",
    "    obitos = pd.read_csv(\"../scr/dengue/obitos_municipio_10.csv\")\n",
    "    total_casos[\"Obitos\"] = list(obitos.iloc[:, 3:14].sum())"
   ]
  },
  {
   "cell_type": "code",
   "execution_count": null,
   "metadata": {},
   "outputs": [],
   "source": [
    "total_casos = total_casos.rename(columns={0: \"Casos\"})"
   ]
  },
  {
   "cell_type": "code",
   "execution_count": null,
   "metadata": {},
   "outputs": [],
   "source": [
    "total_casos"
   ]
  },
  {
   "cell_type": "code",
   "execution_count": null,
   "metadata": {},
   "outputs": [],
   "source": [
    "aux"
   ]
  }
 ],
 "metadata": {
  "kernelspec": {
   "display_name": "Python 3.10.7 64-bit",
   "language": "python",
   "name": "python3"
  },
  "language_info": {
   "codemirror_mode": {
    "name": "ipython",
    "version": 3
   },
   "file_extension": ".py",
   "mimetype": "text/x-python",
   "name": "python",
   "nbconvert_exporter": "python",
   "pygments_lexer": "ipython3",
   "version": "3.10.7"
  },
  "orig_nbformat": 4,
  "vscode": {
   "interpreter": {
    "hash": "e7370f93d1d0cde622a1f8e1c04877d8463912d04d973331ad4851f04de6915a"
   }
  }
 },
 "nbformat": 4,
 "nbformat_minor": 2
}
