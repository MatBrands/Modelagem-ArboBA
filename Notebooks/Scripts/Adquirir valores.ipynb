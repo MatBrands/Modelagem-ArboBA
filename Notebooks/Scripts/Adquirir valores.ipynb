{
 "cells": [
  {
   "cell_type": "code",
   "execution_count": 19,
   "metadata": {},
   "outputs": [],
   "source": [
    "#importe a biblioteca usada para consultar uma URL\n",
    "import urllib.request\n",
    "\n",
    "#importe as funções BeautifulSoup para analisar os dados retornados do site\n",
    "from bs4 import BeautifulSoup\n",
    "\n",
    "#especifique o URL\n",
    "wiki = \"http://www3.saude.ba.gov.br/cgi/deftohtm.exe?sinan/deng.def\"\n",
    "\n",
    "#Consulte o site e retorne o html para a variável 'page'\n",
    "html = urllib.request.urlopen(wiki)\n",
    "\n",
    "#Parse o html na variável 'page' e armazene-o no formato BeautifulSoup\n",
    "soup = BeautifulSoup(html, 'html5lib')"
   ]
  },
  {
   "cell_type": "markdown",
   "metadata": {},
   "source": [
    "Linha"
   ]
  },
  {
   "cell_type": "code",
   "execution_count": 85,
   "metadata": {},
   "outputs": [],
   "source": [
    "linha = soup.find(\"div\", {\"class\": \"linha\"}).find(\"select\").select(\"option\")\n",
    "\n",
    "linha = list(map(lambda node: node.get_text().strip(), linha))"
   ]
  },
  {
   "cell_type": "code",
   "execution_count": 89,
   "metadata": {},
   "outputs": [
    {
     "data": {
      "text/plain": [
       "['Município',\n",
       " 'Região de Saúde/Município',\n",
       " 'Região de Saúde (CIR)',\n",
       " 'Núcleo Regional Saúde/Mun',\n",
       " 'Núcleo Regional de Saúde',\n",
       " 'NRS/Região de Saúde/Mun',\n",
       " 'NRS/Região de Saúde',\n",
       " 'Base Operacional Saúde/Mun',\n",
       " 'Base Operacional de Saúde',\n",
       " 'Trt Ident/Município',\n",
       " 'Trt Identidade',\n",
       " 'Região Metropolitana/RIDE',\n",
       " 'Ano da Notificação',\n",
       " 'Mês da Notificação',\n",
       " 'Sexo',\n",
       " 'Idade detalhada',\n",
       " 'Fx Etária SINAN',\n",
       " 'Raça',\n",
       " 'Escolaridade',\n",
       " 'Ocupação',\n",
       " 'Ano Inic.Sintomas',\n",
       " 'Mes Inic.Sintomas',\n",
       " 'Semana Epid Notificação',\n",
       " 'Ano Epidem. Notificação',\n",
       " 'Semana Epidem. Sintomas',\n",
       " 'Ano Epidem.Sintomas',\n",
       " 'Unid.Saúde de Notificação',\n",
       " 'Unid.Saúd Notific p/munic',\n",
       " 'Classificação',\n",
       " 'Confimação/Descarte',\n",
       " 'Evolução',\n",
       " 'Ano do Óbito',\n",
       " 'Mês do Óbito',\n",
       " 'Doença relacionada ao trab.']"
      ]
     },
     "execution_count": 89,
     "metadata": {},
     "output_type": "execute_result"
    }
   ],
   "source": [
    "linha"
   ]
  },
  {
   "cell_type": "markdown",
   "metadata": {},
   "source": [
    "Coluna"
   ]
  },
  {
   "cell_type": "code",
   "execution_count": 90,
   "metadata": {},
   "outputs": [],
   "source": [
    "coluna = soup.find(\"div\", {\"class\": \"coluna\"}).find(\"select\").select(\"option\")\n",
    "\n",
    "coluna = list(map(lambda node: node.get_text().strip(), coluna))"
   ]
  },
  {
   "cell_type": "code",
   "execution_count": 91,
   "metadata": {},
   "outputs": [
    {
     "data": {
      "text/plain": [
       "['Não ativa',\n",
       " 'Região de Saúde (CIR)',\n",
       " 'Base Operacional de Saúde',\n",
       " 'Ano da Notificação',\n",
       " 'Mês da Notificação',\n",
       " 'Sexo',\n",
       " 'Idade detalhada',\n",
       " 'Fx Etária SINAN',\n",
       " 'Raça',\n",
       " 'Escolaridade',\n",
       " 'Ocupação',\n",
       " 'Ano Inic.Sintomas',\n",
       " 'Mes Inic.Sintomas',\n",
       " 'Semana Epid Notificação',\n",
       " 'Ano Epidem. Notificação',\n",
       " 'Semana Epidem. Sintomas',\n",
       " 'Ano Epidem.Sintomas',\n",
       " 'Classificação',\n",
       " 'Confimação/Descarte',\n",
       " 'Evolução',\n",
       " 'Ano do Óbito',\n",
       " 'Mês do Óbito',\n",
       " 'Doença relacionada ao trab.']"
      ]
     },
     "execution_count": 91,
     "metadata": {},
     "output_type": "execute_result"
    }
   ],
   "source": [
    "coluna"
   ]
  },
  {
   "cell_type": "markdown",
   "metadata": {},
   "source": [
    "Periodos"
   ]
  },
  {
   "cell_type": "code",
   "execution_count": 82,
   "metadata": {},
   "outputs": [],
   "source": [
    "periodos = soup.find(\"div\", {\"class\": \"periodo\"}).find(\"select\").select(\"option\")\n",
    "\n",
    "periodos = list(map(lambda node: node.get_text().strip(), periodos))"
   ]
  },
  {
   "cell_type": "code",
   "execution_count": 83,
   "metadata": {},
   "outputs": [
    {
     "data": {
      "text/plain": [
       "['2022',\n",
       " '2021',\n",
       " '2020',\n",
       " '2019',\n",
       " '2018',\n",
       " '2017',\n",
       " '2016',\n",
       " '2015',\n",
       " '2014',\n",
       " '2013',\n",
       " '2012',\n",
       " '2011',\n",
       " '2010',\n",
       " '2009',\n",
       " '2008',\n",
       " '2007']"
      ]
     },
     "execution_count": 83,
     "metadata": {},
     "output_type": "execute_result"
    }
   ],
   "source": [
    "periodos"
   ]
  }
 ],
 "metadata": {
  "kernelspec": {
   "display_name": "Python 3.8.10 64-bit",
   "language": "python",
   "name": "python3"
  },
  "language_info": {
   "name": "python",
   "version": "3.8.10"
  },
  "orig_nbformat": 4,
  "vscode": {
   "interpreter": {
    "hash": "916dbcbb3f70747c44a77c7bcd40155683ae19c65e1c03b4aa3499c5328201f1"
   }
  }
 },
 "nbformat": 4,
 "nbformat_minor": 2
}
