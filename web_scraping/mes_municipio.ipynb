{
 "cells": [
  {
   "cell_type": "code",
   "execution_count": 1,
   "metadata": {},
   "outputs": [],
   "source": [
    "import os\n",
    "import datetime\n",
    "import pandas as pd\n",
    "import ipywidgets as widgets\n",
    "from selenium import webdriver\n",
    "from webdriver_manager.chrome import ChromeDriverManager\n",
    "from webdriver_manager.utils import ChromeType\n",
    "from webdriver_manager.firefox import GeckoDriverManager\n",
    "from selenium.webdriver.chrome.service import Service as ChromeService\n",
    "from selenium.webdriver.firefox.service import Service as FirefoxService\n",
    "from selenium.webdriver.chrome.options import Options as ChromeOptions\n",
    "from selenium.webdriver.firefox.options import Options as FirefoxOptions\n",
    "from selenium.webdriver.common.by import By\n",
    "from selenium.webdriver.support.ui import WebDriverWait\n",
    "from selenium.webdriver.support import expected_conditions as EC\n",
    "from bs4 import BeautifulSoup\n",
    "\n",
    "os.environ['WDM_LOG_LEVEL'] = '0'"
   ]
  },
  {
   "cell_type": "markdown",
   "metadata": {},
   "source": [
    "Setando a arbovirose e os anos"
   ]
  },
  {
   "cell_type": "code",
   "execution_count": 2,
   "metadata": {},
   "outputs": [
    {
     "data": {
      "application/vnd.jupyter.widget-view+json": {
       "model_id": "a042147279da494c9305e3f9b682cf7f",
       "version_major": 2,
       "version_minor": 0
      },
      "text/plain": [
       "Combobox(value='', description='Arbovirose: ', ensure_option=True, options=('Dengue', 'Chikungunya', 'Zika'), …"
      ]
     },
     "metadata": {},
     "output_type": "display_data"
    }
   ],
   "source": [
    "arbo_v = widgets.Combobox(\n",
    "    placeholder = 'Selecione uma: ',\n",
    "    options = [\"Dengue\", \"Chikungunya\", \"Zika\"],\n",
    "    description = 'Arbovirose: ',\n",
    "    ensure_option = True\n",
    ")\n",
    "\n",
    "display(arbo_v)"
   ]
  },
  {
   "cell_type": "code",
   "execution_count": 3,
   "metadata": {},
   "outputs": [],
   "source": [
    "arbo_v.value = str.lower(arbo_v.value)"
   ]
  },
  {
   "cell_type": "code",
   "execution_count": 4,
   "metadata": {},
   "outputs": [],
   "source": [
    "aux = datetime.date.today()\n",
    "aux = int(aux.strftime(\"%Y\"))\n",
    "\n",
    "if arbo_v.value == 'dengue':\n",
    "    j = 10\n",
    "else:\n",
    "    j = 5\n",
    "\n",
    "anos = []\n",
    "for i in range (aux-j, aux):\n",
    "    anos.append(str(i))"
   ]
  },
  {
   "cell_type": "code",
   "execution_count": 5,
   "metadata": {},
   "outputs": [
    {
     "data": {
      "application/vnd.jupyter.widget-view+json": {
       "model_id": "ce95fd4aa638492f903dfff415961121",
       "version_major": 2,
       "version_minor": 0
      },
      "text/plain": [
       "Combobox(value='', description='Ano: ', ensure_option=True, options=('2012', '2013', '2014', '2015', '2016', '…"
      ]
     },
     "metadata": {},
     "output_type": "display_data"
    }
   ],
   "source": [
    "ano = widgets.Combobox(\n",
    "    placeholder = 'Selecione um: ',\n",
    "    options = anos,\n",
    "    description = 'Ano: ',\n",
    "    ensure_option = True\n",
    ")\n",
    "\n",
    "display(ano)"
   ]
  },
  {
   "cell_type": "code",
   "execution_count": 6,
   "metadata": {},
   "outputs": [],
   "source": [
    "ano = int(ano.value)"
   ]
  },
  {
   "cell_type": "code",
   "execution_count": 7,
   "metadata": {},
   "outputs": [],
   "source": [
    "def inicializarDriver(name):\n",
    "    if name == (\"google-chrome.desktop\" or \"brave-browser.desktop\" or \"chromium_chromium.desktop\"):\n",
    "        options = ChromeOptions()\n",
    "        options.add_argument(\"--headless\")\n",
    "\n",
    "        if name == \"google-chrome.desktop\":\n",
    "            driver = webdriver.Chrome(service=ChromeService(ChromeDriverManager().install()), options=options)\n",
    "        elif name == \"brave-browser.desktop\":\n",
    "            driver = webdriver.Chrome(service=ChromeService(ChromeDriverManager(chrome_type=ChromeType.BRAVE).install()), options=options)\n",
    "        elif name == \"chromium_chromium.desktop\":\n",
    "            driver = webdriver.Chrome(service=ChromeService(ChromeDriverManager(chrome_type=ChromeType.CHROMIUM).install()), options=options)\n",
    "\n",
    "    elif (name == \"firefox.desktop\"):\n",
    "        options = FirefoxOptions()\n",
    "        options.add_argument(\"--headless\")\n",
    "        driver = webdriver.Firefox(service=FirefoxService(GeckoDriverManager().install(), log_path=os.devnull), options=options)\n",
    "\n",
    "    return driver"
   ]
  },
  {
   "cell_type": "code",
   "execution_count": 8,
   "metadata": {},
   "outputs": [],
   "source": [
    "browser_name = [\"google-chrome.desktop\", \"brave-browser.desktop\", \"chromium_chromium.desktop\"]\n",
    "ano_atual = datetime.date.today()\n",
    "ano_atual = int(ano_atual.strftime(\"%Y\"))\n",
    "\n",
    "i = 0\n",
    "while (i < 3):\n",
    "    try:\n",
    "        driver = inicializarDriver(browser_name[i])\n",
    "        i = 3\n",
    "    except:\n",
    "        i += 1\n",
    "\n",
    "driver.set_page_load_timeout(100)\n",
    "\n",
    "if arbo_v.value == \"dengue\":\n",
    "    url = \"http://www3.saude.ba.gov.br/cgi/deftohtm.exe?sinan/deng.def\"\n",
    "elif arbo_v.value == \"chikungunya\":\n",
    "    url = \"http://www3.saude.ba.gov.br/cgi/deftohtm.exe?sinan/chikun.def\"\n",
    "else:\n",
    "    url = \"http://www3.saude.ba.gov.br/cgi/deftohtm.exe?sinan/zika.def\"\n",
    "\n",
    "driver.get(url)\n",
    "\n",
    "WebDriverWait(driver, 1).until(EC.presence_of_element_located((By.CLASS_NAME, 'mostra')))\n",
    "\n",
    "i = ano_atual-ano+1\n",
    "if arbo_v.value == \"dengue\" or arbo_v.value == \"chikungunya\":\n",
    "    # Linha\n",
    "    driver.find_element(By.XPATH, '/html/body/div/center/div/form/div[2]/div/div[1]/select/option[1]').click()\n",
    "    # Coluna\n",
    "    driver.find_element(By.XPATH, '/html/body/div/center/div/form/div[2]/div/div[2]/select/option[5]').click()\n",
    "    # Periodo\n",
    "    driver.find_element(By.XPATH, '/html/body/div/center/div/form/div[3]/div/select/option[1]').click()\n",
    "    driver.find_element(By.XPATH, f'/html/body/div/center/div/form/div[3]/div/select/option[{i}]').click()\n",
    "    \n",
    "    # Mostra\n",
    "    driver.find_element(By.XPATH, '/html/body/div/center/div/form/div[4]/div[2]/div[2]/input[1]').click()\n",
    "else:\n",
    "    # Linha\n",
    "    driver.find_element(By.XPATH, '/html/body/center/div/form/div[2]/div/div[1]/select/option[2]').click()\n",
    "    # Coluna\n",
    "    driver.find_element(By.XPATH, '/html/body/center/div/form/div[2]/div/div[2]/select/option[6]').click()\n",
    "    # Periodo\n",
    "    driver.find_element(By.XPATH, '/html/body/center/div/form/div[3]/div/select/option[1]').click()\n",
    "    driver.find_element(By.XPATH, f'/html/body/center/div/form/div[3]/div/select/option[{i}]').click()\n",
    "\n",
    "    # Mostra\n",
    "    driver.find_element(By.XPATH, '/html/body/center/div/form/div[4]/div[2]/div[2]/input[1]').click()\n",
    "\n",
    "html = driver.page_source\n",
    "\n",
    "driver.quit()"
   ]
  },
  {
   "cell_type": "code",
   "execution_count": 10,
   "metadata": {},
   "outputs": [],
   "source": [
    "soup = BeautifulSoup(html, 'html.parser')\n",
    "\n",
    "tabdados = soup.select(\".tabdados tbody tr td \")\n",
    "\n",
    "tabdados = list(map(lambda node: node.get_text().strip(), tabdados))\n",
    "\n",
    "col_tabdados = soup.select(\".tabdados th \")\n",
    "col_tabdados = list(map(lambda node: node.get_text().strip(), col_tabdados))"
   ]
  },
  {
   "cell_type": "code",
   "execution_count": 11,
   "metadata": {},
   "outputs": [],
   "source": [
    "tam_lin = int(len(tabdados)/len(col_tabdados))\n",
    "tam_col = len(col_tabdados)\n",
    "\n",
    "aux = []\n",
    "for i in range (tam_lin):\n",
    "    aux_2 = []\n",
    "    for j in range (tam_col):  \n",
    "        aux_2.append(tabdados.pop(0))\n",
    "    aux.append(aux_2)\n",
    "\n",
    "df = pd.DataFrame(aux, columns=col_tabdados)\n",
    "\n",
    "df = df.drop(columns=['Total'])\n",
    "df = df.drop(0)\n",
    "df = df.reset_index()\n",
    "df = df.drop(columns=['index'])"
   ]
  },
  {
   "cell_type": "code",
   "execution_count": 12,
   "metadata": {},
   "outputs": [],
   "source": [
    "aux = []\n",
    "for item in df.iloc[:, 0]:\n",
    "    aux.append(item.split(\" \", 1))\n",
    "\n",
    "aux = pd.DataFrame(aux)\n",
    "\n",
    "df[\"Código\"] = aux[0]\n",
    "df[\"Município\"] = aux[1]\n",
    "\n",
    "aux = list(df.columns)\n",
    "aux.insert(0, aux.pop())\n",
    "df = df[aux]"
   ]
  },
  {
   "cell_type": "code",
   "execution_count": 13,
   "metadata": {},
   "outputs": [],
   "source": [
    "df.iloc[:, 2:] = df.iloc[:, 2:].astype(str).replace('\\.', '', regex=True)\n",
    "df.iloc[:, 2:] = df.iloc[:, 2:].astype(str).replace('-', '0')"
   ]
  },
  {
   "cell_type": "code",
   "execution_count": 14,
   "metadata": {},
   "outputs": [
    {
     "data": {
      "text/html": [
       "<div>\n",
       "<style scoped>\n",
       "    .dataframe tbody tr th:only-of-type {\n",
       "        vertical-align: middle;\n",
       "    }\n",
       "\n",
       "    .dataframe tbody tr th {\n",
       "        vertical-align: top;\n",
       "    }\n",
       "\n",
       "    .dataframe thead th {\n",
       "        text-align: right;\n",
       "    }\n",
       "</style>\n",
       "<table border=\"1\" class=\"dataframe\">\n",
       "  <thead>\n",
       "    <tr style=\"text-align: right;\">\n",
       "      <th></th>\n",
       "      <th>Código</th>\n",
       "      <th>Município</th>\n",
       "      <th>Jan</th>\n",
       "      <th>Fev</th>\n",
       "      <th>Mar</th>\n",
       "      <th>Abr</th>\n",
       "      <th>Mai</th>\n",
       "      <th>Jun</th>\n",
       "      <th>Jul</th>\n",
       "      <th>Ago</th>\n",
       "      <th>Set</th>\n",
       "      <th>Out</th>\n",
       "      <th>Nov</th>\n",
       "      <th>Dez</th>\n",
       "    </tr>\n",
       "  </thead>\n",
       "  <tbody>\n",
       "    <tr>\n",
       "      <th>0</th>\n",
       "      <td>290010</td>\n",
       "      <td>Abaíra</td>\n",
       "      <td>0</td>\n",
       "      <td>0</td>\n",
       "      <td>0</td>\n",
       "      <td>0</td>\n",
       "      <td>0</td>\n",
       "      <td>0</td>\n",
       "      <td>0</td>\n",
       "      <td>1</td>\n",
       "      <td>0</td>\n",
       "      <td>0</td>\n",
       "      <td>0</td>\n",
       "      <td>0</td>\n",
       "    </tr>\n",
       "    <tr>\n",
       "      <th>1</th>\n",
       "      <td>290020</td>\n",
       "      <td>Abaré</td>\n",
       "      <td>0</td>\n",
       "      <td>0</td>\n",
       "      <td>0</td>\n",
       "      <td>1</td>\n",
       "      <td>0</td>\n",
       "      <td>0</td>\n",
       "      <td>0</td>\n",
       "      <td>0</td>\n",
       "      <td>0</td>\n",
       "      <td>0</td>\n",
       "      <td>1</td>\n",
       "      <td>0</td>\n",
       "    </tr>\n",
       "    <tr>\n",
       "      <th>2</th>\n",
       "      <td>290030</td>\n",
       "      <td>Acajutiba</td>\n",
       "      <td>0</td>\n",
       "      <td>0</td>\n",
       "      <td>0</td>\n",
       "      <td>0</td>\n",
       "      <td>0</td>\n",
       "      <td>1</td>\n",
       "      <td>0</td>\n",
       "      <td>1</td>\n",
       "      <td>0</td>\n",
       "      <td>0</td>\n",
       "      <td>0</td>\n",
       "      <td>1</td>\n",
       "    </tr>\n",
       "    <tr>\n",
       "      <th>3</th>\n",
       "      <td>290035</td>\n",
       "      <td>Adustina</td>\n",
       "      <td>5</td>\n",
       "      <td>0</td>\n",
       "      <td>0</td>\n",
       "      <td>0</td>\n",
       "      <td>3</td>\n",
       "      <td>0</td>\n",
       "      <td>0</td>\n",
       "      <td>0</td>\n",
       "      <td>1</td>\n",
       "      <td>0</td>\n",
       "      <td>0</td>\n",
       "      <td>0</td>\n",
       "    </tr>\n",
       "    <tr>\n",
       "      <th>4</th>\n",
       "      <td>290040</td>\n",
       "      <td>Água Fria</td>\n",
       "      <td>0</td>\n",
       "      <td>0</td>\n",
       "      <td>0</td>\n",
       "      <td>0</td>\n",
       "      <td>1</td>\n",
       "      <td>0</td>\n",
       "      <td>0</td>\n",
       "      <td>0</td>\n",
       "      <td>0</td>\n",
       "      <td>0</td>\n",
       "      <td>0</td>\n",
       "      <td>0</td>\n",
       "    </tr>\n",
       "  </tbody>\n",
       "</table>\n",
       "</div>"
      ],
      "text/plain": [
       "   Código  Município Jan Fev Mar Abr Mai Jun Jul Ago Set Out Nov Dez\n",
       "0  290010     Abaíra   0   0   0   0   0   0   0   1   0   0   0   0\n",
       "1  290020      Abaré   0   0   0   1   0   0   0   0   0   0   1   0\n",
       "2  290030  Acajutiba   0   0   0   0   0   1   0   1   0   0   0   1\n",
       "3  290035   Adustina   5   0   0   0   3   0   0   0   1   0   0   0\n",
       "4  290040  Água Fria   0   0   0   0   1   0   0   0   0   0   0   0"
      ]
     },
     "execution_count": 14,
     "metadata": {},
     "output_type": "execute_result"
    }
   ],
   "source": [
    "df.head()"
   ]
  },
  {
   "cell_type": "code",
   "execution_count": null,
   "metadata": {},
   "outputs": [],
   "source": [
    "if arbo_v.value == \"dengue\":\n",
    "    df.to_csv(f\"../scr/dengue/mes_municipio_{ano}.csv\", encoding='utf-8')\n",
    "elif arbo_v.value == \"chikungunya\":\n",
    "    df.to_csv(f\"../scr/chikungunya/mes_municipio_{ano}.csv\", encoding='utf-8')\n",
    "else:\n",
    "    df.to_csv(f\"../scr/zika/mes_municipio_{ano}.csv\", encoding='utf-8')"
   ]
  }
 ],
 "metadata": {
  "interpreter": {
   "hash": "916dbcbb3f70747c44a77c7bcd40155683ae19c65e1c03b4aa3499c5328201f1"
  },
  "kernelspec": {
   "display_name": "Python 3.8.10 64-bit",
   "language": "python",
   "name": "python3"
  },
  "language_info": {
   "codemirror_mode": {
    "name": "ipython",
    "version": 3
   },
   "file_extension": ".py",
   "mimetype": "text/x-python",
   "name": "python",
   "nbconvert_exporter": "python",
   "pygments_lexer": "ipython3",
   "version": "3.8.10"
  },
  "orig_nbformat": 4
 },
 "nbformat": 4,
 "nbformat_minor": 2
}
