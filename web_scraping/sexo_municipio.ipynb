{
 "cells": [
  {
   "cell_type": "code",
   "execution_count": null,
   "metadata": {},
   "outputs": [],
   "source": [
    "import os\n",
    "import datetime\n",
    "import ipywidgets as widgets\n",
    "import pandas as pd\n",
    "from selenium import webdriver\n",
    "from webdriver_manager.chrome import ChromeDriverManager\n",
    "from webdriver_manager.utils import ChromeType\n",
    "from webdriver_manager.firefox import GeckoDriverManager\n",
    "from selenium.webdriver.chrome.service import Service as ChromeService\n",
    "from selenium.webdriver.firefox.service import Service as FirefoxService\n",
    "from selenium.webdriver.chrome.options import Options as ChromeOptions\n",
    "from selenium.webdriver.firefox.options import Options as FirefoxOptions\n",
    "from selenium.webdriver.common.by import By\n",
    "from selenium.webdriver.support.ui import WebDriverWait\n",
    "from selenium.webdriver.support import expected_conditions as EC\n",
    "from bs4 import BeautifulSoup\n",
    "\n",
    "os.environ['WDM_LOG_LEVEL'] = '0'"
   ]
  },
  {
   "cell_type": "markdown",
   "metadata": {},
   "source": [
    "Setando a arbovirose e os anos"
   ]
  },
  {
   "cell_type": "code",
   "execution_count": null,
   "metadata": {},
   "outputs": [],
   "source": [
    "arbo_v = widgets.Combobox(\n",
    "    placeholder = 'Selecione uma: ',\n",
    "    options = [\"Dengue\", \"Chikungunya\", \"Zika\"],\n",
    "    description = 'Arbovirose: ',\n",
    "    ensure_option = True\n",
    ")\n",
    "\n",
    "display(arbo_v)"
   ]
  },
  {
   "cell_type": "code",
   "execution_count": null,
   "metadata": {},
   "outputs": [],
   "source": [
    "arbo_v.value = str.lower(arbo_v.value)"
   ]
  },
  {
   "cell_type": "code",
   "execution_count": null,
   "metadata": {},
   "outputs": [],
   "source": [
    "aux = datetime.date.today()\n",
    "aux = int(aux.strftime(\"%Y\"))\n",
    "\n",
    "if arbo_v.value == 'dengue':\n",
    "    j = 10\n",
    "else:\n",
    "    j = 5\n",
    "\n",
    "anos = []\n",
    "for i in range (aux-j, aux):\n",
    "    anos.append(str(i))"
   ]
  },
  {
   "cell_type": "code",
   "execution_count": null,
   "metadata": {},
   "outputs": [],
   "source": [
    "ano = widgets.Combobox(\n",
    "    placeholder = 'Selecione um: ',\n",
    "    options = anos,\n",
    "    description = 'Ano: ',\n",
    "    ensure_option = True\n",
    ")\n",
    "\n",
    "display(ano)"
   ]
  },
  {
   "cell_type": "code",
   "execution_count": null,
   "metadata": {},
   "outputs": [],
   "source": [
    "ano = int(ano.value)"
   ]
  },
  {
   "cell_type": "code",
   "execution_count": null,
   "metadata": {},
   "outputs": [],
   "source": [
    "def inicializarDriver(name):\n",
    "    if name == (\"google-chrome.desktop\" or \"brave-browser.desktop\" or \"chromium_chromium.desktop\"):\n",
    "        options = ChromeOptions()\n",
    "        options.add_argument(\"--headless\")\n",
    "\n",
    "        if name == \"google-chrome.desktop\":\n",
    "            driver = webdriver.Chrome(service=ChromeService(ChromeDriverManager().install()), options=options)\n",
    "        elif name == \"brave-browser.desktop\":\n",
    "            driver = webdriver.Chrome(service=ChromeService(ChromeDriverManager(chrome_type=ChromeType.BRAVE).install()), options=options)\n",
    "        elif name == \"chromium_chromium.desktop\":\n",
    "            driver = webdriver.Chrome(service=ChromeService(ChromeDriverManager(chrome_type=ChromeType.CHROMIUM).install()), options=options)\n",
    "\n",
    "    elif (name == \"firefox.desktop\"):\n",
    "        options = FirefoxOptions()\n",
    "        options.add_argument(\"--headless\")\n",
    "        driver = webdriver.Firefox(service=FirefoxService(GeckoDriverManager().install(), log_path=os.devnull), options=options)\n",
    "\n",
    "    return driver"
   ]
  },
  {
   "cell_type": "code",
   "execution_count": null,
   "metadata": {},
   "outputs": [],
   "source": [
    "browser_name = [\"google-chrome.desktop\", \"brave-browser.desktop\", \"chromium_chromium.desktop\"]\n",
    "ano_atual = datetime.date.today()\n",
    "ano_atual = int(ano_atual.strftime(\"%Y\"))\n",
    "\n",
    "i = 0\n",
    "while (i < 3):\n",
    "    try:\n",
    "        driver = inicializarDriver(browser_name[i])\n",
    "        i = 3\n",
    "    except:\n",
    "        i += 1\n",
    "\n",
    "driver.set_page_load_timeout(100)\n",
    "\n",
    "if arbo_v.value == \"dengue\":\n",
    "    url = \"http://www3.saude.ba.gov.br/cgi/deftohtm.exe?sinan/deng.def\"\n",
    "elif arbo_v.value == \"chikungunya\":\n",
    "    url = \"http://www3.saude.ba.gov.br/cgi/deftohtm.exe?sinan/chikun.def\"\n",
    "else:\n",
    "    url = \"http://www3.saude.ba.gov.br/cgi/deftohtm.exe?sinan/zika.def\"\n",
    "\n",
    "driver.get(url)\n",
    "\n",
    "WebDriverWait(driver, 1).until(EC.presence_of_element_located((By.CLASS_NAME, 'mostra')))\n",
    "\n",
    "i = ano_atual-ano+1\n",
    "if arbo_v.value == \"dengue\" or arbo_v.value == \"chikungunya\":\n",
    "    # Linha\n",
    "    driver.find_element(By.XPATH, '/html/body/div/center/div/form/div[2]/div/div[1]/select/option[1]').click()\n",
    "    # Coluna\n",
    "    driver.find_element(By.XPATH, '/html/body/div/center/div/form/div[2]/div/div[2]/select/option[6]').click()\n",
    "    # Periodo\n",
    "    driver.find_element(By.XPATH, '/html/body/div/center/div/form/div[3]/div/select/option[1]').click()\n",
    "    driver.find_element(By.XPATH, f'/html/body/div/center/div/form/div[3]/div/select/option[{i}]').click()\n",
    "    \n",
    "    # Mostra\n",
    "    driver.find_element(By.XPATH, '/html/body/div/center/div/form/div[4]/div[2]/div[2]/input[1]').click()\n",
    "else:\n",
    "    # Linha\n",
    "    driver.find_element(By.XPATH, '/html/body/center/div/form/div[2]/div/div[1]/select/option[2]').click()\n",
    "    # Coluna\n",
    "    driver.find_element(By.XPATH, '/html/body/center/div/form/div[2]/div/div[2]/select/option[7]').click()\n",
    "    # Periodo\n",
    "    driver.find_element(By.XPATH, '/html/body/center/div/form/div[3]/div/select/option[1]').click()\n",
    "    driver.find_element(By.XPATH, f'/html/body/center/div/form/div[3]/div/select/option[{i}]').click()\n",
    "\n",
    "    # Mostra\n",
    "    driver.find_element(By.XPATH, '/html/body/center/div/form/div[4]/div[2]/div[2]/input[1]').click()\n",
    "\n",
    "html = driver.page_source\n",
    "\n",
    "driver.quit()"
   ]
  },
  {
   "cell_type": "code",
   "execution_count": null,
   "metadata": {},
   "outputs": [],
   "source": [
    "soup = BeautifulSoup(html, 'html.parser')\n",
    "\n",
    "tabdados = soup.select(\".tabdados tbody tr td \")\n",
    "\n",
    "tabdados = list(map(lambda node: node.get_text().strip(), tabdados))\n",
    "\n",
    "col_tabdados = soup.select(\".tabdados th \")\n",
    "col_tabdados = list(map(lambda node: node.get_text().strip(), col_tabdados))"
   ]
  },
  {
   "cell_type": "code",
   "execution_count": null,
   "metadata": {},
   "outputs": [],
   "source": [
    "tam_lin = int(len(tabdados)/len(col_tabdados))\n",
    "tam_col = len(col_tabdados)\n",
    "\n",
    "aux = []\n",
    "for i in range (tam_lin):\n",
    "    aux_2 = []\n",
    "    for j in range (tam_col):  \n",
    "        aux_2.append(tabdados.pop(0))\n",
    "    aux.append(aux_2)\n",
    "\n",
    "df = pd.DataFrame(aux, columns=col_tabdados)"
   ]
  },
  {
   "cell_type": "code",
   "execution_count": null,
   "metadata": {},
   "outputs": [],
   "source": [
    "df = df.drop(columns=['Total'])\n",
    "df = df.drop(0)\n",
    "df = df.reset_index()\n",
    "df = df.drop(columns=['index'])"
   ]
  },
  {
   "cell_type": "code",
   "execution_count": null,
   "metadata": {},
   "outputs": [],
   "source": [
    "aux = list(df.iloc[:, 0])\n",
    "for i in range (len(aux)):\n",
    "    aux[i] = aux[i].split(\" \")\n",
    "    while (len(aux[i]) > 2):\n",
    "        aux[i][1] = aux[i][1] + \" \" + aux[i][2]\n",
    "        aux[i].pop(2)\n",
    "aux = pd.DataFrame(aux, columns=[\"Codigo\", \"Município\"])\n",
    "df.iloc[:, 0] = aux[\"Município\"]"
   ]
  },
  {
   "cell_type": "code",
   "execution_count": null,
   "metadata": {},
   "outputs": [],
   "source": [
    "try:\n",
    "    df[\"Em Branco\"]\n",
    "except:\n",
    "    df[\"Em Branco\"] = 0\n",
    "\n",
    "try:\n",
    "    df[\"Ignorado\"]\n",
    "except:\n",
    "    df[\"Ignorado\"] = 0    "
   ]
  },
  {
   "cell_type": "code",
   "execution_count": null,
   "metadata": {},
   "outputs": [],
   "source": [
    "tam = len(df)\n",
    "for i in range (1, 5):\n",
    "    for j in range (tam):    \n",
    "        aux = str(df.iloc[:, i][j])\n",
    "        aux = aux.split(\".\")\n",
    "        if len(aux) > 1:\n",
    "            while len(aux) > 1:\n",
    "                aux[0] += aux.pop(1)\n",
    "            df.iloc[:, i][j] = aux[0]\n",
    "        \n",
    "        try:\n",
    "            df.iloc[:, i][j] = int(df.iloc[:, i][j])\n",
    "        except:\n",
    "            df.iloc[:, i][j] = 0"
   ]
  },
  {
   "cell_type": "code",
   "execution_count": null,
   "metadata": {},
   "outputs": [],
   "source": [
    "order = ['Município', 'Em Branco', 'Ignorado', 'Masculino', 'Feminino']\n",
    "\n",
    "df = df[order]"
   ]
  },
  {
   "cell_type": "code",
   "execution_count": null,
   "metadata": {},
   "outputs": [],
   "source": [
    "if arbo_v.value == \"dengue\":\n",
    "    df.to_csv(f\"../scr/dengue/sexo_municipio_{ano}.csv\", encoding='utf-8')\n",
    "elif arbo_v.value == \"chikungunya\":\n",
    "    df.to_csv(f\"../scr/chikungunya/sexo_municipio_{ano}.csv\", encoding='utf-8')\n",
    "else:\n",
    "    df.to_csv(f\"../scr/zika/sexo_municipio_{ano}.csv\", encoding='utf-8')"
   ]
  }
 ],
 "metadata": {
  "interpreter": {
   "hash": "916dbcbb3f70747c44a77c7bcd40155683ae19c65e1c03b4aa3499c5328201f1"
  },
  "kernelspec": {
   "display_name": "Python 3.8.10 64-bit",
   "language": "python",
   "name": "python3"
  },
  "language_info": {
   "codemirror_mode": {
    "name": "ipython",
    "version": 3
   },
   "file_extension": ".py",
   "mimetype": "text/x-python",
   "name": "python",
   "nbconvert_exporter": "python",
   "pygments_lexer": "ipython3",
   "version": "3.8.10"
  },
  "orig_nbformat": 4
 },
 "nbformat": 4,
 "nbformat_minor": 2
}
