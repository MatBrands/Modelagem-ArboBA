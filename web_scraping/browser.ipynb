{
 "cells": [
  {
   "cell_type": "code",
   "execution_count": null,
   "metadata": {},
   "outputs": [],
   "source": [
    "import os\n",
    "from selenium import webdriver\n",
    "from webdriver_manager.chrome import ChromeDriverManager\n",
    "from webdriver_manager.utils import ChromeType\n",
    "from webdriver_manager.firefox import GeckoDriverManager\n",
    "from selenium.webdriver.chrome.service import Service as ChromeService\n",
    "from selenium.webdriver.firefox.service import Service as FirefoxService\n",
    "from selenium.webdriver.chrome.options import Options as ChromeOptions\n",
    "from selenium.webdriver.firefox.options import Options as FirefoxOptions\n",
    "\n",
    "os.environ['WDM_LOG_LEVEL'] = '0'"
   ]
  },
  {
   "cell_type": "code",
   "execution_count": null,
   "metadata": {},
   "outputs": [],
   "source": [
    "def inicializarDriver(name):\n",
    "    if name == (\"google-chrome.desktop\" or \"brave-browser.desktop\" or \"chromium_chromium.desktop\"):\n",
    "        options = ChromeOptions()\n",
    "        options.add_argument(\"--headless\")\n",
    "\n",
    "        if name == \"google-chrome.desktop\":\n",
    "            driver = webdriver.Chrome(service=ChromeService(ChromeDriverManager().install()), options=options)\n",
    "        elif name == \"brave-browser.desktop\":\n",
    "            driver = webdriver.Chrome(service=ChromeService(ChromeDriverManager(chrome_type=ChromeType.BRAVE).install()), options=options)\n",
    "        elif name == \"chromium_chromium.desktop\":\n",
    "            driver = webdriver.Chrome(service=ChromeService(ChromeDriverManager(chrome_type=ChromeType.CHROMIUM).install()), options=options)\n",
    "\n",
    "    elif (name == \"firefox.desktop\"):\n",
    "        options = FirefoxOptions()\n",
    "        options.add_argument(\"--headless\")\n",
    "        driver = webdriver.Firefox(service=FirefoxService(GeckoDriverManager().install(), log_path=os.devnull), options=options)\n",
    "\n",
    "    return driver"
   ]
  },
  {
   "cell_type": "markdown",
   "metadata": {},
   "source": [
    "Tenta alguns navegadores"
   ]
  },
  {
   "cell_type": "code",
   "execution_count": null,
   "metadata": {},
   "outputs": [],
   "source": [
    "browser_name = [\"google-chrome.desktop\", \"brave-browser.desktop\", \"chromium_chromium.desktop\"]\n",
    "\n",
    "i = 0\n",
    "\n",
    "while (i < 3):\n",
    "    try:\n",
    "        driver = inicializarDriver(browser_name[i])\n",
    "        i = 3\n",
    "    except:\n",
    "        i += 1\n",
    "\n",
    "driver.set_page_load_timeout(100)\n",
    "\n",
    "url = \"https://www.google.com/\"\n",
    "driver.get(url)\n",
    "html = driver.page_source\n",
    "\n",
    "driver.quit()"
   ]
  },
  {
   "cell_type": "markdown",
   "metadata": {},
   "source": [
    "Navegador padrão"
   ]
  },
  {
   "cell_type": "code",
   "execution_count": null,
   "metadata": {},
   "outputs": [],
   "source": [
    "browser_name = os.popen('xdg-settings get default-web-browser').read().rstrip()\n",
    "\n",
    "try:\n",
    "    driver = inicializarDriver(browser_name)\n",
    "except:\n",
    "    driver = inicializarDriver(\"google-chrome.desktop\")\n",
    "    print(\"Browser não identificado, finalizando\")\n",
    "    exit()\n",
    "\n",
    "driver.set_page_load_timeout(100)\n",
    "\n",
    "url = \"https://www.google.com/\"\n",
    "driver.get(url)\n",
    "html = driver.page_source\n",
    "\n",
    "driver.quit()"
   ]
  },
  {
   "cell_type": "code",
   "execution_count": null,
   "metadata": {},
   "outputs": [],
   "source": [
    "html"
   ]
  }
 ],
 "metadata": {
  "interpreter": {
   "hash": "916dbcbb3f70747c44a77c7bcd40155683ae19c65e1c03b4aa3499c5328201f1"
  },
  "kernelspec": {
   "display_name": "Python 3.8.10 64-bit",
   "language": "python",
   "name": "python3"
  },
  "language_info": {
   "codemirror_mode": {
    "name": "ipython",
    "version": 3
   },
   "file_extension": ".py",
   "mimetype": "text/x-python",
   "name": "python",
   "nbconvert_exporter": "python",
   "pygments_lexer": "ipython3",
   "version": "3.8.10"
  },
  "orig_nbformat": 4
 },
 "nbformat": 4,
 "nbformat_minor": 2
}
