{
 "cells": [
  {
   "cell_type": "code",
   "execution_count": null,
   "metadata": {},
   "outputs": [],
   "source": [
    "import math\n",
    "import matplotlib\n",
    "import pandas as pd\n",
    "import geopandas as gpd\n",
    "import matplotlib.pyplot as plt\n",
    "import numpy as np\n",
    "import ipywidgets as widgets"
   ]
  },
  {
   "cell_type": "code",
   "execution_count": null,
   "metadata": {},
   "outputs": [],
   "source": [
    "def find_bins(observations, width):\n",
    "    minimmum = np.min(observations)\n",
    "    maximmum = np.max(observations)\n",
    "    bound_min = -1.0 * (minimmum % width - minimmum)\n",
    "    bound_max = maximmum - maximmum % width + width\n",
    "    n = int((bound_max - bound_min) / width) + 1\n",
    "    bins = np.linspace(bound_min, bound_max, n)\n",
    "    return bins"
   ]
  },
  {
   "cell_type": "markdown",
   "metadata": {},
   "source": [
    "Selecionando arbovirose"
   ]
  },
  {
   "cell_type": "code",
   "execution_count": null,
   "metadata": {},
   "outputs": [],
   "source": [
    "arbo_v = widgets.Combobox(\n",
    "    placeholder = 'Selecione uma: ',\n",
    "    options = [\"Dengue\", \"Chikungunya\", \"Zika\"],\n",
    "    description = 'Arbovirose: ',\n",
    "    ensure_option = True\n",
    ")\n",
    "\n",
    "display(arbo_v)"
   ]
  },
  {
   "cell_type": "code",
   "execution_count": null,
   "metadata": {},
   "outputs": [],
   "source": [
    "arbo_v.value = str.lower(arbo_v.value)\n",
    "\n",
    "map = \"./Map/Map.shp\"\n",
    "\n",
    "if arbo_v.value == \"dengue\":\n",
    "    anos = 10\n",
    "else:\n",
    "    anos = 5\n",
    "dados = f\"../scr/{arbo_v.value}/casos_municipio_{anos}.csv\"\n",
    "\n",
    "bahia = gpd.read_file(map)\n",
    "\n",
    "df = pd.read_csv(dados)\n",
    "df = df.drop(columns=\"Unnamed: 0\")"
   ]
  },
  {
   "cell_type": "code",
   "execution_count": null,
   "metadata": {},
   "outputs": [],
   "source": [
    "ano_plotado = widgets.Combobox(\n",
    "    placeholder = 'Selecione um: ',\n",
    "    options = list(df.columns[2:]),\n",
    "    description = 'Ano: ',\n",
    "    ensure_option = True\n",
    ")\n",
    "\n",
    "display(ano_plotado)"
   ]
  },
  {
   "cell_type": "code",
   "execution_count": null,
   "metadata": {},
   "outputs": [],
   "source": [
    "for i in range (1, anos+2):\n",
    "    bahia[f\"{df.columns[1:][i]}\"] = 0\n",
    "\n",
    "for i in range (len(bahia)):\n",
    "    for j in range (len(df)):\n",
    "        if bahia.loc[i, \"Município\"] == df.loc[j, \"Município\"]:\n",
    "            for k in range(1, anos+2):\n",
    "                bahia.loc[i, f\"{df.columns[1:][k]}\"] = df.loc[j, f\"{df.columns[1:][k]}\"]\n"
   ]
  },
  {
   "cell_type": "code",
   "execution_count": null,
   "metadata": {},
   "outputs": [],
   "source": [
    "df = pd.read_csv(\"../scr/BA - IBGE 2010.csv\")"
   ]
  },
  {
   "cell_type": "code",
   "execution_count": null,
   "metadata": {},
   "outputs": [],
   "source": [
    "bahia[\"População 2010\"] = 0\n",
    "\n",
    "for i in range (len(bahia)):\n",
    "    for j in range (len(df)):\n",
    "        if bahia.loc[i, \"Município\"] == df.loc[j, \"Município\"]:\n",
    "            bahia.loc[i, \"População 2010\"] = df.loc[j, \"População 2010\"]"
   ]
  },
  {
   "cell_type": "code",
   "execution_count": null,
   "metadata": {},
   "outputs": [],
   "source": [
    "nc = math.ceil( 1 + 3.322 * math.log(len(bahia), 10) )\n",
    "intervalo = []\n",
    "for i in range (nc):\n",
    "    intervalo.append(bahia[f\"{ano_plotado.value}\"].quantile(nc * i/100))\n",
    "intervalo = sorted(set(intervalo))"
   ]
  },
  {
   "cell_type": "code",
   "execution_count": null,
   "metadata": {},
   "outputs": [],
   "source": [
    "plt.rcParams[\"figure.figsize\"] = (15, 15)"
   ]
  },
  {
   "cell_type": "code",
   "execution_count": null,
   "metadata": {},
   "outputs": [],
   "source": [
    "binwidth=50\n",
    "\n",
    "bahia.hist(column=f\"{ano_plotado.value}\", bins = find_bins(intervalo, 100), rwidth=0.9)\n",
    "\n",
    "if arbo_v == \"dengue\":\n",
    "    plt.title(f\"Casos de Dengue do ano {ano_plotado.value}\")\n",
    "elif arbo_v == \"chikungunya\":\n",
    "    plt.title(f\"Casos de Chikungunya do ano {ano_plotado.value}\")\n",
    "else:\n",
    "    plt.title(f\"Casos de Zika Vírus do ano {ano_plotado.value}\")\n",
    "\n",
    "plt.savefig(f'../media/{arbo_v.value}/georef_hist_{ano_plotado.value}.png', bbox_inches='tight', pad_inches=0)"
   ]
  },
  {
   "cell_type": "markdown",
   "metadata": {},
   "source": [
    "Plotagem automatica"
   ]
  },
  {
   "cell_type": "code",
   "execution_count": null,
   "metadata": {},
   "outputs": [],
   "source": [
    "plt.rcParams[\"figure.figsize\"] = (20, 20)"
   ]
  },
  {
   "cell_type": "code",
   "execution_count": null,
   "metadata": {},
   "outputs": [],
   "source": [
    "bahia.plot(column=f\"{ano_plotado.value}\", cmap='coolwarm', linewidth=1, legend=True)\n",
    "plt.savefig(f'../media/{arbo_v.value}/georef_auto_{ano_plotado.value}.png', bbox_inches='tight', pad_inches=0)"
   ]
  },
  {
   "cell_type": "code",
   "execution_count": null,
   "metadata": {},
   "outputs": [],
   "source": [
    "bahia.plot(column=f\"{ano_plotado.value}\", scheme='user_defined', classification_kwds={'bins':intervalo}, cmap='coolwarm', linewidth=1, legend=True)\n",
    "plt.savefig(f'../media/{arbo_v.value}/georef_sturges_{ano_plotado.value}.png', bbox_inches='tight', pad_inches=0)"
   ]
  },
  {
   "cell_type": "code",
   "execution_count": null,
   "metadata": {},
   "outputs": [],
   "source": [
    "bahia[\"Casos_100.000hab\"] = round(bahia.loc[:, f'{ano_plotado.value}']/bahia.loc[:, \"População 2010\"] * 100000, 0)\n",
    "\n",
    "intervalo = []\n",
    "for i in range (nc):\n",
    "    intervalo.append(bahia[\"Casos_100.000hab\"].quantile(nc * i/100))\n",
    "\n",
    "intervalo = sorted(set(intervalo))"
   ]
  },
  {
   "cell_type": "code",
   "execution_count": null,
   "metadata": {},
   "outputs": [],
   "source": [
    "bahia.plot(column=\"Casos_100.000hab\", scheme='user_defined', classification_kwds={'bins':intervalo}, cmap='coolwarm', linewidth=1, legend=True)\n",
    "plt.savefig(f'../media/{arbo_v.value}/Casos_100.000hab_{ano_plotado.value}.png', bbox_inches='tight', pad_inches=0)"
   ]
  }
 ],
 "metadata": {
  "interpreter": {
   "hash": "916dbcbb3f70747c44a77c7bcd40155683ae19c65e1c03b4aa3499c5328201f1"
  },
  "kernelspec": {
   "display_name": "Python 3.8.10 64-bit",
   "language": "python",
   "name": "python3"
  },
  "language_info": {
   "codemirror_mode": {
    "name": "ipython",
    "version": 3
   },
   "file_extension": ".py",
   "mimetype": "text/x-python",
   "name": "python",
   "nbconvert_exporter": "python",
   "pygments_lexer": "ipython3",
   "version": "3.8.10"
  },
  "orig_nbformat": 4
 },
 "nbformat": 4,
 "nbformat_minor": 2
}
